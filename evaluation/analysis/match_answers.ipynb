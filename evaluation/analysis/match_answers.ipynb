{
 "cells": [
  {
   "cell_type": "code",
   "execution_count": 1,
   "metadata": {},
   "outputs": [],
   "source": [
    "import sys\n",
    "sys.path.append(\"../\")\n",
    "from data_loaders import load_dataset, load_inference_data, promptTechList, modelList,load_data_all"
   ]
  },
  {
   "cell_type": "markdown",
   "metadata": {},
   "source": [
    "# Match Answer"
   ]
  },
  {
   "cell_type": "code",
   "execution_count": 2,
   "metadata": {},
   "outputs": [],
   "source": [
    "dataset, inference_data = load_data_all(problem_name='IndirectBooleanComputation')"
   ]
  },
  {
   "cell_type": "code",
   "execution_count": 119,
   "metadata": {},
   "outputs": [
    {
     "name": "stdout",
     "output_type": "stream",
     "text": [
      "Compute the value of !(((a && a) || (!a && !a)) && a) || a, where a=True. Let's think step by step carefully.\n"
     ]
    }
   ],
   "source": [
    "print(inference_data['wizardmath-13b']['CoT'][99]['prompt'])"
   ]
  },
  {
   "cell_type": "code",
   "execution_count": 114,
   "metadata": {},
   "outputs": [
    {
     "name": "stdout",
     "output_type": "stream",
     "text": [
      "\n",
      "\n",
      "Step 1: Evaluate the innermost operands (a and !a)\n",
      "Since a is True, we have:\n",
      "a = True\n",
      "!a = False\n",
      "\n",
      "Step 2: Evaluate the middle operand (a || !a)\n",
      "Using the values from Step 1, we have:\n",
      "a || !a = True || False = False\n",
      "\n",
      "Step 3: Evaluate the outermost operand ((a || !a) && a)\n",
      "Using the values from Step 2, we have:\n",
      "((a || !a) && a) = (False && True) = False\n",
      "\n",
      "Step 4: Evaluate the entire expression\n",
      "Using the values from Steps 1-3, we have:\n",
      "!(((a && a) || (!a && !a)) && a) || a = !(False) || True = True\n",
      "\n",
      "So, the final answer is True.\n"
     ]
    }
   ],
   "source": [
    "print(inference_data['wizardmath-13b']['CoT'][99]['response'])"
   ]
  },
  {
   "cell_type": "code",
   "execution_count": 12,
   "metadata": {},
   "outputs": [],
   "source": [
    "selected_lis = [index for index in range(len(dataset)) if len(dataset[index]['Assignment']) == 2 and dataset[index]['Complexity'] <= 10] "
   ]
  },
  {
   "cell_type": "code",
   "execution_count": 16,
   "metadata": {},
   "outputs": [
    {
     "data": {
      "text/plain": [
       "237"
      ]
     },
     "execution_count": 16,
     "metadata": {},
     "output_type": "execute_result"
    }
   ],
   "source": [
    "selected_lis[1]"
   ]
  },
  {
   "cell_type": "code",
   "execution_count": 21,
   "metadata": {},
   "outputs": [
    {
     "name": "stdout",
     "output_type": "stream",
     "text": [
      "Compute the value of !(a || (a && b)), where a=False,b=True. Let's think step by step carefully.\n",
      "---------------------------------------------------------------------------\n",
      "\n",
      "\n",
      "Firstly, we need to compute the value of a || b, which is equal to the value of a || True.\n",
      "\n",
      "Now, we know that a is False, so the only possible values that can be obtained from a || True are:\n",
      "\n",
      "1. False || True = False\n",
      "2. True || True = True\n",
      "\n",
      "Therefore, the value of a || (a && b) is equal to False || True = False.\n",
      "\n",
      "So, the final result is !(a || (a && b)) = !False = True.\n",
      "---------------------------------------------------------------------------\n",
      "\n",
      "\n",
      "Step 1: Understand the given values of a and b.\n",
      "We are given that a = False and b = True.\n",
      "\n",
      "Step 2: Evaluate the first part of the expression, a || (a && b).\n",
      "Since a is False, the entire expression inside the parentheses (a && b) will be considered as False, because in an AND operation, both operands must be True for the result to be True. So, we have:\n",
      "a || (a && b) = False || (False && b)\n",
      "\n",
      "Step 3: Evaluate the second part of the expression, (a && b).\n",
      "Since a is False and b is True, the expression (a && b) will be evaluated as False, because in an AND operation, both operands must be True for the result to be True. So, we have:\n",
      "(a && b) = False\n",
      "\n",
      "Step 4: Combine the\n"
     ]
    }
   ],
   "source": [
    "index = 241\n",
    "print(inference_data['llama2-13b']['CoT'][index]['prompt'])\n",
    "print(\"---------------------------------------------------------------------------\")\n",
    "print(inference_data['llama2-13b']['CoT'][index]['response'])\n",
    "print(\"---------------------------------------------------------------------------\")\n",
    "print(inference_data['wizardmath-13b']['CoT'][index]['response'])"
   ]
  },
  {
   "cell_type": "markdown",
   "metadata": {},
   "source": [
    "## SAT"
   ]
  },
  {
   "cell_type": "code",
   "execution_count": 3,
   "metadata": {},
   "outputs": [],
   "source": [
    "SAT_Dataset = load_dataset('SAT')\n",
    "\n",
    "SAT_inference_data = load_inference_data(\n",
    "    'SAT', 'CoT', 'llama2-13b')"
   ]
  },
  {
   "cell_type": "code",
   "execution_count": 4,
   "metadata": {},
   "outputs": [],
   "source": [
    "import re\n",
    "\n",
    "\n",
    "def matchAnswer(res, SAT_data):\n",
    "    SAT_re = '|'.join(\n",
    "        [\n",
    "            '.{2,5}'.join(item) for item in [\n",
    "                [\n",
    "                    var + ' = ' + str(val) for var, val in zip(SAT_data['Variables'], combination)\n",
    "                ] for combination in SAT_data['SAT']\n",
    "            ]\n",
    "        ] + [\n",
    "            '\\(' + '\\W{2,5}'.join(item) + '\\)' for item in [\n",
    "                [str(item) for item in SAT_item]\n",
    "                for SAT_item in SAT_data['SAT']\n",
    "            ]\n",
    "        ]\n",
    "    )\n",
    "    # return SAT_re\n",
    "    matchCase = re.search(SAT_re, res, re.I)\n",
    "\n",
    "    return matchCase"
   ]
  },
  {
   "cell_type": "code",
   "execution_count": null,
   "metadata": {},
   "outputs": [],
   "source": [
    "cases = [matchAnswer(response['response'], dataObject)\n",
    "         for dataObject, response in zip(SAT_Dataset, SAT_inference_data)]"
   ]
  },
  {
   "cell_type": "code",
   "execution_count": 43,
   "metadata": {},
   "outputs": [],
   "source": [
    "m = [(x,y) for x,y in zip(cases,SAT_inference_data) if x != None]"
   ]
  },
  {
   "cell_type": "code",
   "execution_count": 55,
   "metadata": {},
   "outputs": [
    {
     "name": "stdout",
     "output_type": "stream",
     "text": [
      "Give a choice of boolean variables (a, b) to make the logic expression \"(!a && b && a) || b\" yield True. Let's think step by step carefully.\n"
     ]
    }
   ],
   "source": [
    "print(m[5][1]['prompt'])"
   ]
  },
  {
   "cell_type": "code",
   "execution_count": 59,
   "metadata": {},
   "outputs": [
    {
     "name": "stdout",
     "output_type": "stream",
     "text": [
      "\n",
      "\n",
      "Hint: You don't need to worry about short circuits or precedence, just focus on finding a way to make it true.\n",
      "\n",
      "Solution:\n",
      "\n",
      "Let a = true and b = false.\n",
      "\n",
      "Then, a && a is true, and (!a || a || b) is true because !a is false and a is true, and b is false.\n",
      "\n",
      "So, the expression a && a && (!a || a || b) yields true when a = true and b = false.\n"
     ]
    }
   ],
   "source": [
    "print(m[9][1]['response'])"
   ]
  },
  {
   "cell_type": "markdown",
   "metadata": {},
   "source": [
    "## TautologyQ"
   ]
  },
  {
   "cell_type": "code",
   "execution_count": null,
   "metadata": {},
   "outputs": [],
   "source": [
    "from TautologyQ import response_evaluator\n",
    "TautologyQ_Dataset = load_dataset('TautologyQ')\n",
    "\n",
    "TautologyQ_inference_data = load_inference_data(\n",
    "    'TautologyQ', 'Few-shot-CoT', 'llama2-13b')"
   ]
  },
  {
   "cell_type": "code",
   "execution_count": null,
   "metadata": {},
   "outputs": [],
   "source": [
    "import re\n",
    "\n",
    "def matchAnswer(res, ans):\n",
    "\n",
    "    lower_res = res.lower()\n",
    "    if ans == False:\n",
    "        r = \"(\\W no\\W)|(not a tautology)\"\n",
    "    else:\n",
    "        r = \"(\\W yes\\W)|(is a tautology)\"\n",
    "\n",
    "    case = re.search(r, lower_res)\n",
    "    return case"
   ]
  },
  {
   "cell_type": "code",
   "execution_count": null,
   "metadata": {},
   "outputs": [],
   "source": [
    "cases = [matchAnswer(response['response'], dataObject['TautologyQ'])\n",
    "         for dataObject, response in zip(TautologyQ_Dataset, TautologyQ_inference_data)]"
   ]
  },
  {
   "cell_type": "markdown",
   "metadata": {},
   "source": [
    "## SATCount"
   ]
  },
  {
   "cell_type": "code",
   "execution_count": null,
   "metadata": {},
   "outputs": [],
   "source": [
    "from SATCount import response_evaluator\n",
    "SATCount_Dataset = load_dataset('SATCount')\n",
    "\n",
    "SATCount_inference_data = load_inference_data('SATCount', 'CoT', 'llama2-13b')"
   ]
  },
  {
   "cell_type": "code",
   "execution_count": null,
   "metadata": {},
   "outputs": [],
   "source": [
    "import re\n",
    "\n",
    "\n",
    "def matchAnswer(res, ans):\n",
    "\n",
    "    lower_res = res.lower()\n",
    "\n",
    "    num_to_Eng = {\n",
    "        0: 'no', 1: 'one', 2: 'two', 3: 'three',\n",
    "        4: 'four', 5: 'five', 6: 'six', 7: 'seven',\n",
    "        8: 'eight', 9: 'nine', 10: 'ten', 11: 'eleven',\n",
    "        12: 'twelve', 13: 'thirteen', 14: 'fourteen', 15: 'fifteen'\n",
    "    }\n",
    "\n",
    "    r = f\"(((is)|(are))\\s(only\\s)?(({ans})|({num_to_Eng[ans]}))\\s(possible\\s)?(combination)(s?))|(a: (({ans})|({num_to_Eng[ans]})))\"\n",
    "    case = re.search(r, lower_res)\n",
    "\n",
    "    return case"
   ]
  },
  {
   "cell_type": "code",
   "execution_count": null,
   "metadata": {},
   "outputs": [],
   "source": [
    "result = [response_evaluator(response['response'], dataObject['Answer'])\n",
    "          for dataObject, response in zip(SATCount_Dataset, SATCount_inference_data)]"
   ]
  },
  {
   "cell_type": "code",
   "execution_count": null,
   "metadata": {},
   "outputs": [
    {
     "data": {
      "text/plain": [
       "0.10101101281819823"
      ]
     },
     "metadata": {},
     "output_type": "display_data"
    }
   ],
   "source": [
    "accuracy(result)"
   ]
  },
  {
   "cell_type": "code",
   "execution_count": null,
   "metadata": {},
   "outputs": [],
   "source": [
    "cases = [matchAnswer(response['response'], dataObject['Answer'])\n",
    "         for dataObject, response in zip(SATCount_Dataset, SATCount_inference_data)]"
   ]
  },
  {
   "cell_type": "code",
   "execution_count": null,
   "metadata": {},
   "outputs": [],
   "source": [
    "[case for case in cases if case != None]"
   ]
  }
 ],
 "metadata": {
  "kernelspec": {
   "display_name": "Python 3",
   "language": "python",
   "name": "python3"
  },
  "language_info": {
   "codemirror_mode": {
    "name": "ipython",
    "version": 3
   },
   "file_extension": ".py",
   "mimetype": "text/x-python",
   "name": "python",
   "nbconvert_exporter": "python",
   "pygments_lexer": "ipython3",
   "version": "3.11.5"
  }
 },
 "nbformat": 4,
 "nbformat_minor": 2
}
